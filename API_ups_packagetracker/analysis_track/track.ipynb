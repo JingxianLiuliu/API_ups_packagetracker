{
 "cells": [
  {
   "cell_type": "code",
   "execution_count": 32,
   "metadata": {},
   "outputs": [],
   "source": [
    "import packagetracker\n",
    "import pandas as pd\n",
    "import numpy as np"
   ]
  },
  {
   "cell_type": "code",
   "execution_count": 33,
   "metadata": {},
   "outputs": [],
   "source": [
    "data= pd.read_csv('tracking_number.csv', header = None)\n",
    "# data = np.loadtxt('track_number.txt')\n",
    "# headerList = ['tracking_id', 'service', 'weight']\n",
    "# data.to_csv(\"tracking_number.csv\", header=headerList, index=False)\n",
    "#def simple_f(tracking)\n",
    "\n",
    "\n",
    "\n",
    "def simple_f(tracking_id):\n",
    "    row = data.iloc[0].to_string(index= False)\n",
    "    tracker = packagetracker.PackageTracker()\n",
    "    package = tracker.package(tracking_id)\n",
    "    info = package.track()\n",
    "    return info.weight, info.service\n",
    "\n",
    "weight_list = []\n",
    "service_list = []\n",
    "for i in range(len(data)):\n",
    "    row = data.iloc[i].to_string(index= False)\n",
    "    weight, service = simple_f(row)\n",
    "    weight_list.append(weight)\n",
    "    service_list.append(service)\n",
    "    \n",
    "data.columns = ['tracking_id'] \n",
    "data['weight'] = weight_list\n",
    "data['service'] =service_list\n",
    "\n"
   ]
  },
  {
   "cell_type": "code",
   "execution_count": 36,
   "metadata": {},
   "outputs": [],
   "source": [
    "data.to_csv('out.csv')"
   ]
  }
 ],
 "metadata": {
  "interpreter": {
   "hash": "d1ea43ab9d17bb559e5232cc1d7d24428339cdd8b586c17a20f76ba563abd60e"
  },
  "kernelspec": {
   "display_name": "Python 3.7.10 ('myenv')",
   "language": "python",
   "name": "python3"
  },
  "language_info": {
   "codemirror_mode": {
    "name": "ipython",
    "version": 3
   },
   "file_extension": ".py",
   "mimetype": "text/x-python",
   "name": "python",
   "nbconvert_exporter": "python",
   "pygments_lexer": "ipython3",
   "version": "3.9.5"
  },
  "orig_nbformat": 4
 },
 "nbformat": 4,
 "nbformat_minor": 2
}
